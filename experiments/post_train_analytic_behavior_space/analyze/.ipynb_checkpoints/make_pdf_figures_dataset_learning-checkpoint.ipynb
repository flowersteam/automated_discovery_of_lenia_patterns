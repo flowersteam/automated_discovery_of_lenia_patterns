{
 "cells": [
  {
   "cell_type": "markdown",
   "metadata": {},
   "source": [
    "Learn curve of training for the VAE that encodes the final patterns for the analytic bahavior space."
   ]
  },
  {
   "cell_type": "code",
   "execution_count": null,
   "metadata": {
    "code_folding": [],
    "hide_input": true
   },
   "outputs": [],
   "source": [
    "# default print properties\n",
    "multiplier = 2\n",
    "\n",
    "pixel_cm_ration = 36.5\n",
    "\n",
    "width_full = int(13.95 * pixel_cm_ration) * multiplier\n",
    "width_half = int(13.95/2 * pixel_cm_ration) * multiplier\n",
    "\n",
    "height_default_1 = int(3.5 * pixel_cm_ration) * multiplier\n",
    "\n",
    "# margins in pixel\n",
    "top_margin = 0 * multiplier \n",
    "left_margin = 35 * multiplier \n",
    "right_margin = 0 * multiplier \n",
    "bottom_margin = 25 * multiplier \n",
    "\n",
    "font_size = 10 * multiplier \n",
    "font_family='Times New Roman'\n",
    "\n",
    "line_width = 2 * multiplier "
   ]
  },
  {
   "cell_type": "code",
   "execution_count": null,
   "metadata": {
    "code_folding": []
   },
   "outputs": [],
   "source": [
    "# Define and load data\n",
    "import autodisc as ad\n",
    "import ipywidgets\n",
    "import plotly\n",
    "import numpy as np\n",
    "plotly.offline.init_notebook_mode(connected=True)\n",
    "\n",
    "experiment_directory = '../training'"
   ]
  },
  {
   "cell_type": "code",
   "execution_count": null,
   "metadata": {
    "code_folding": [
     0
    ]
   },
   "outputs": [],
   "source": [
    "# Config\n",
    "default_config = dict(\n",
    "    plotly_format = 'svg',\n",
    "    layout = dict(\n",
    "        xaxis = dict(\n",
    "            title = 'epoch',\n",
    "            showline = True,\n",
    "            linewidth = 1,\n",
    "            zeroline=False,\n",
    "            ),\n",
    "        yaxis = dict(\n",
    "            title = 'loss',\n",
    "            showline = True,\n",
    "            linewidth = 1,\n",
    "            zeroline=False,\n",
    "            ),\n",
    "        font = dict(\n",
    "            family=font_family, \n",
    "            size=font_size, \n",
    "            ),\n",
    "        updatemenus=[],\n",
    "        width=width_full, # in cm\n",
    "        height=height_default_1, # in cm\n",
    "        \n",
    "        margin = dict(\n",
    "            l=left_margin, #left margin in pixel\n",
    "            r=right_margin, #right margin in pixel\n",
    "            b=bottom_margin, #bottom margin in pixel\n",
    "            t=top_margin,  #top margin in pixel\n",
    "            ),\n",
    "\n",
    "        legend=dict(\n",
    "            xanchor='right',\n",
    "            yanchor='top',\n",
    "            y=1,\n",
    "            x=1,\n",
    "            ),        \n",
    "        ),\n",
    "    \n",
    "    default_colors = ['rgb(0,0,0)', \n",
    "                      #'rgb(204,121,167)', \n",
    "                      'rgb(230,159,0)', \n",
    "                      'rgb(0,158,115)',\n",
    "                      'rgb(240,228,66)',\n",
    "                      'rgb(213,94,0)', \n",
    "                      'rgb(0,0,0)',  'rgb(86,180,233)', 'rgb(0,158,115)', 'rgb(240,228,66)', 'rgb(0,114,178)', 'rgb(213,94,0)', 'rgb(204,121,167)'],\n",
    "    \n",
    "    default_mean_trace = dict(line=dict(width = line_width)),\n",
    "    \n",
    "    mean_traces = [\n",
    "        dict(line = dict(dash = 'dot')),\n",
    "        dict(line = dict(dash = 'solid')),\n",
    "        dict(line = dict(dash = 'dash')),\n",
    "        dict(line = dict(dash = 'dashdot')),\n",
    "        dict(line = dict(dash = 'solid')),\n",
    "        dict(line = dict(dash = 'longdashdot')),\n",
    "        dict(line = dict(dash = 'longdash')),\n",
    "        dict(line = dict(dash = 'solid')),\n",
    "        dict(line = dict(dash = 'dash')),\n",
    "        dict(line = dict(dash = 'dashdot')),\n",
    "        dict(line = dict(dash = 'dot')),\n",
    "        dict(line = dict(dash = 'longdash')),\n",
    "        dict(line = dict(dash = 'longdashdot')),\n",
    "    ],\n",
    "   \n",
    ")"
   ]
  },
  {
   "cell_type": "code",
   "execution_count": null,
   "metadata": {
    "code_folding": [
     0
    ]
   },
   "outputs": [],
   "source": [
    "# get data\n",
    "import os\n",
    "\n",
    "def load_data_from_csv_files(experiment_directory):\n",
    "    \n",
    "    # plot train and valid loss curves\n",
    "    train_losses = {}\n",
    "    n_epochs = 0\n",
    "    with open(os.path.join(experiment_directory, 'training', 'loss_train.cvs'), 'r') as f:\n",
    "        lineslist = [line.rstrip() for line in f]\n",
    "        for line in lineslist:\n",
    "            line = line.split('\\t')\n",
    "            if line[0][:6] == 'Epoch:':\n",
    "                for col in range(1, len(line)):\n",
    "                    k,v = line[col].split(' ')\n",
    "                    k = k[:-1]\n",
    "                    if k not in train_losses:\n",
    "                            train_losses[k] = [float(v)]\n",
    "                    else:\n",
    "                        train_losses[k].append(float(v))\n",
    "                n_epochs +=1\n",
    "            \n",
    "    valid_losses = {}\n",
    "    with open(os.path.join(experiment_directory, 'training', 'loss_valid.cvs'), 'r') as f:\n",
    "        lineslist = [line.rstrip() for line in f]\n",
    "        for line in lineslist:\n",
    "            line = line.split('\\t')\n",
    "            if line[0][:6] == 'Epoch:':\n",
    "                for col in range(1, len(line)):\n",
    "                    k,v = line[col].split(' ')\n",
    "                    k = k[:-1]\n",
    "                    if k not in valid_losses:\n",
    "                            valid_losses[k] = [float(v)]\n",
    "                    else:\n",
    "                        valid_losses[k].append(float(v))\n",
    "        \n",
    "    return [train_losses, valid_losses]\n",
    "\n",
    "[train_losses, valid_losses] = load_data_from_csv_files(experiment_directory)"
   ]
  },
  {
   "cell_type": "code",
   "execution_count": null,
   "metadata": {
    "code_folding": [
     0
    ]
   },
   "outputs": [],
   "source": [
    "import os\n",
    "import autodisc\n",
    "\n",
    "config = default_config\n",
    "config['mean_labels'] = ['training set', 'validation set']\n",
    "\n",
    "max_epoch = 1400\n",
    "\n",
    "data = []\n",
    "data.append(np.reshape(train_losses['total'][:max_epoch], (1, len(train_losses['total'][:max_epoch]))))\n",
    "data.append(np.reshape(valid_losses['total'][:max_epoch], (1, len(valid_losses['total'][:max_epoch]))))\n",
    "\n",
    "fig = autodisc.gui.jupyter.plotly_meanstd_scatter(data=data, config=config)"
   ]
  }
 ],
 "metadata": {
  "anaconda-cloud": {},
  "kernelspec": {
   "display_name": "Python 3",
   "language": "python",
   "name": "python3"
  },
  "language_info": {
   "codemirror_mode": {
    "name": "ipython",
    "version": 3
   },
   "file_extension": ".py",
   "mimetype": "text/x-python",
   "name": "python",
   "nbconvert_exporter": "python",
   "pygments_lexer": "ipython3",
   "version": "3.6.8"
  },
  "toc": {
   "base_numbering": 1,
   "nav_menu": {},
   "number_sections": true,
   "sideBar": true,
   "skip_h1_title": false,
   "title_cell": "Table of Contents",
   "title_sidebar": "Contents",
   "toc_cell": false,
   "toc_position": {},
   "toc_section_display": true,
   "toc_window_display": false
  },
  "varInspector": {
   "cols": {
    "lenName": 16,
    "lenType": 16,
    "lenVar": 40
   },
   "kernels_config": {
    "python": {
     "delete_cmd_postfix": "",
     "delete_cmd_prefix": "del ",
     "library": "var_list.py",
     "varRefreshCmd": "print(var_dic_list())"
    },
    "r": {
     "delete_cmd_postfix": ") ",
     "delete_cmd_prefix": "rm(",
     "library": "var_list.r",
     "varRefreshCmd": "cat(var_dic_list()) "
    }
   },
   "types_to_exclude": [
    "module",
    "function",
    "builtin_function_or_method",
    "instance",
    "_Feature"
   ],
   "window_display": false
  }
 },
 "nbformat": 4,
 "nbformat_minor": 2
}
