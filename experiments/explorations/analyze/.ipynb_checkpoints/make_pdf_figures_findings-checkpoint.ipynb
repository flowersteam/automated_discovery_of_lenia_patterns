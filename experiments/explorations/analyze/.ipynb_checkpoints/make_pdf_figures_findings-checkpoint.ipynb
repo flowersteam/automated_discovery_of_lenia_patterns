{
 "cells": [
  {
   "cell_type": "markdown",
   "metadata": {},
   "source": [
    "Examples of found patterns per algorithm. (Fig. 23-26, Supplementary Material)"
   ]
  },
  {
   "cell_type": "code",
   "execution_count": null,
   "metadata": {
    "hide_input": false
   },
   "outputs": [],
   "source": [
    "# Define and load data\n",
    "import autodisc as ad\n",
    "import ipywidgets\n",
    "import plotly\n",
    "import numpy as np\n",
    "import collections\n",
    "plotly.offline.init_notebook_mode(connected=True)\n",
    "\n",
    "data_filters = collections.OrderedDict()\n",
    "data_filters['dead'] = ('classifier_dead.data', '==', True)\n",
    "data_filters['non-animal'] = (('classifier_dead.data', '==', False), 'and', ('classifier_animal.data', '==', False))\n",
    "data_filters['animal'] = ('classifier_animal.data', '==', True)\n",
    "\n",
    "\n",
    "org_experiment_definitions = dict()\n",
    "\n",
    "org_experiment_definitions['main_paper'] = [\n",
    "    dict(id = '1',\n",
    "         directory = '../experiments/experiment_000001',\n",
    "         name = 'Random',\n",
    "         is_default = True),\n",
    "\n",
    "    dict(id = '109',\n",
    "         directory = '../experiments/experiment_000109',\n",
    "         name = 'IMGEP-HGS',\n",
    "         is_default = True),\n",
    "    \n",
    "    dict(id = '202',\n",
    "         directory = '../experiments/experiment_000202',\n",
    "         name = 'IMGEP-PGL',\n",
    "         is_default = True),\n",
    "\n",
    "    dict(id = '302',\n",
    "         directory = '../experiments/experiment_000302',\n",
    "         name = 'IMGEP-OGL',\n",
    "         is_default = True),\n",
    "]\n",
    "\n",
    "\n",
    "\n",
    "repetition_ids = list(range(1))\n",
    "\n",
    "# define names and load the data\n",
    "experiment_name_format = '<name>' # <id>, <name>\n",
    "\n",
    "#global experiment_definitions\n",
    "experiment_definitions = []\n",
    "experiment_statistics = []\n",
    "\n",
    "current_experiment_list = 'main_paper'\n",
    "\n",
    "experiment_definitions = []\n",
    "for org_exp_def in org_experiment_definitions[current_experiment_list]:\n",
    "    new_exp_def = dict()\n",
    "    new_exp_def['directory'] = org_exp_def['directory']\n",
    "    if 'is_default' in org_exp_def:\n",
    "        new_exp_def['is_default'] = org_exp_def['is_default']\n",
    "\n",
    "    if 'name' in org_exp_def:\n",
    "        new_exp_def['id'] = ad.gui.jupyter.misc.replace_str_from_dict(experiment_name_format, {'id': org_exp_def['id'], 'name': org_exp_def['name']})\n",
    "    else:\n",
    "        new_exp_def['id'] = ad.gui.jupyter.misc.replace_str_from_dict(experiment_name_format, {'id': org_exp_def['id']})\n",
    "\n",
    "    experiment_definitions.append(new_exp_def)\n",
    "\n",
    "experiment_statistics = dict()\n",
    "for experiment_definition in experiment_definitions:\n",
    "    experiment_statistics[experiment_definition['id']] = ad.gui.jupyter.misc.load_statistics(experiment_definition['directory'])\n",
    "       "
   ]
  },
  {
   "cell_type": "code",
   "execution_count": null,
   "metadata": {
    "scrolled": false
   },
   "outputs": [],
   "source": [
    "config = ad.Config()\n",
    "config.random_seed = 0\n",
    "config.global_layout = dict(height=900, \n",
    "                            width=700)\n",
    "\n",
    "config.images = dict(sizey= 8,\n",
    "                     sizex= 10,)\n",
    "\n",
    "config.shapes_background_colors = ['rgb(0,0,0)', 'rgb(0,158,115)','rgb(230,159,0)']\n",
    "config.shapes_lines_colors = ['rgb(255,255,255)','rgb(255,255,255)','rgb(255,255,255)']\n",
    "\n",
    "experiment_definition_id = 0\n",
    "print(experiment_definitions[experiment_definition_id]['id'])\n",
    "fig = ad.gui.jupyter.plot_discoveries_treemap(\n",
    "        experiment_definition = experiment_definitions[experiment_definition_id],\n",
    "        repetition_id = 0, \n",
    "        experiment_statistics = experiment_statistics,\n",
    "        data_filters = data_filters,\n",
    "        config = config)\n",
    "\n",
    "experiment_definition_id = 1\n",
    "print(experiment_definitions[experiment_definition_id]['id'])\n",
    "fig = ad.gui.jupyter.plot_discoveries_treemap(\n",
    "        experiment_definition = experiment_definitions[experiment_definition_id],\n",
    "        repetition_id = 0, \n",
    "        experiment_statistics = experiment_statistics,\n",
    "        data_filters = data_filters,\n",
    "        config = config)\n",
    "\n",
    "experiment_definition_id = 2\n",
    "print(experiment_definitions[experiment_definition_id]['id'])\n",
    "fig = ad.gui.jupyter.plot_discoveries_treemap(\n",
    "        experiment_definition = experiment_definitions[experiment_definition_id],\n",
    "        repetition_id = 0, \n",
    "        experiment_statistics = experiment_statistics,\n",
    "        data_filters = data_filters,\n",
    "        config = config)\n",
    "\n",
    "experiment_definition_id = 3\n",
    "print(experiment_definitions[experiment_definition_id]['id'])\n",
    "fig = ad.gui.jupyter.plot_discoveries_treemap(\n",
    "        experiment_definition = experiment_definitions[experiment_definition_id],\n",
    "        repetition_id = 0, \n",
    "        experiment_statistics = experiment_statistics,\n",
    "        data_filters = data_filters,\n",
    "        config = config)"
   ]
  }
 ],
 "metadata": {
  "kernelspec": {
   "display_name": "Python 3",
   "language": "python",
   "name": "python3"
  },
  "language_info": {
   "codemirror_mode": {
    "name": "ipython",
    "version": 3
   },
   "file_extension": ".py",
   "mimetype": "text/x-python",
   "name": "python",
   "nbconvert_exporter": "python",
   "pygments_lexer": "ipython3",
   "version": "3.6.8"
  },
  "toc": {
   "base_numbering": 1,
   "nav_menu": {},
   "number_sections": true,
   "sideBar": true,
   "skip_h1_title": false,
   "title_cell": "Table of Contents",
   "title_sidebar": "Contents",
   "toc_cell": false,
   "toc_position": {},
   "toc_section_display": true,
   "toc_window_display": false
  },
  "varInspector": {
   "cols": {
    "lenName": 16,
    "lenType": 16,
    "lenVar": 40
   },
   "kernels_config": {
    "python": {
     "delete_cmd_postfix": "",
     "delete_cmd_prefix": "del ",
     "library": "var_list.py",
     "varRefreshCmd": "print(var_dic_list())"
    },
    "r": {
     "delete_cmd_postfix": ") ",
     "delete_cmd_prefix": "rm(",
     "library": "var_list.r",
     "varRefreshCmd": "cat(var_dic_list()) "
    }
   },
   "types_to_exclude": [
    "module",
    "function",
    "builtin_function_or_method",
    "instance",
    "_Feature"
   ],
   "window_display": false
  }
 },
 "nbformat": 4,
 "nbformat_minor": 2
}
