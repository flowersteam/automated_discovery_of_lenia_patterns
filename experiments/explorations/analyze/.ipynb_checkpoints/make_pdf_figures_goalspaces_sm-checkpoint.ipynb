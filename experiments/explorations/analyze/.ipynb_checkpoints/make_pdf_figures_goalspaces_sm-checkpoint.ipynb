{
 "cells": [
  {
   "cell_type": "markdown",
   "metadata": {},
   "source": [
    "2D visualization of the goal spaces for the IMGEP approaches. (Fig. 27, Supplementary Material)"
   ]
  },
  {
   "cell_type": "code",
   "execution_count": null,
   "metadata": {
    "code_folding": []
   },
   "outputs": [],
   "source": [
    "# default print properties\n",
    "multiplier = 2\n",
    "\n",
    "pixel_cm_ration = 36.5\n",
    "\n",
    "width_full = int(13.95 * pixel_cm_ration) * multiplier\n",
    "width_half = int(13.95/2 * pixel_cm_ration) * multiplier\n",
    "width_half_smaller = int((13.95-1)/2 * pixel_cm_ration) * multiplier\n",
    "\n",
    "height_default_1 = int(3.5 * pixel_cm_ration) * multiplier\n",
    "height_default_4 = int(7 * pixel_cm_ration) * multiplier\n",
    "\n",
    "# margins in pixel\n",
    "top_margin = 0 * multiplier \n",
    "left_margin = 0 * multiplier \n",
    "right_margin = 0 * multiplier \n",
    "bottom_margin = 0 * multiplier \n",
    "\n",
    "font_size = 10 * multiplier \n",
    "font_family='Times New Roman'\n",
    "\n",
    "line_width = 2 * multiplier "
   ]
  },
  {
   "cell_type": "code",
   "execution_count": null,
   "metadata": {
    "code_folding": [
     0
    ],
    "hide_input": false
   },
   "outputs": [],
   "source": [
    "# Define and load data\n",
    "import autodisc as ad\n",
    "import ipywidgets\n",
    "import plotly\n",
    "import numpy as np\n",
    "import collections\n",
    "plotly.offline.init_notebook_mode(connected=True)\n",
    "\n",
    "data_filters = collections.OrderedDict()\n",
    "data_filters['dead'] = ('classifier_dead.data', '==', True)\n",
    "data_filters['non-animal'] = (('classifier_dead.data', '==', False), 'and', ('classifier_animal.data', '==', False))\n",
    "data_filters['animal'] = ('classifier_animal.data', '==', True)\n",
    "\n",
    "org_experiment_definitions = dict()\n",
    "\n",
    "org_experiment_definitions['main_paper'] = [\n",
    "    dict(id = '109',\n",
    "         directory = '../experiments/experiment_000109',\n",
    "         name = 'IMGEP-HGS',\n",
    "         is_default = True),\n",
    "    \n",
    "    dict(id = '202',\n",
    "         directory = '../experiments/experiment_000202',\n",
    "         name = 'IMGEP-PGL',\n",
    "         is_default = True),\n",
    "\n",
    "    dict(id = '302',\n",
    "         directory = '../experiments/experiment_000302',\n",
    "         name = 'IMGEP-OGL',\n",
    "         is_default = True),\n",
    "]\n",
    "\n",
    "repetition_ids = list(range(1))\n",
    "\n",
    "# define names and load the data\n",
    "experiment_name_format = '<name>' # <id>, <name>\n",
    "\n",
    "#global experiment_definitions\n",
    "experiment_definitions = []\n",
    "experiment_statistics = []\n",
    "\n",
    "current_experiment_list = 'main_paper'\n",
    "\n",
    "experiment_definitions = []\n",
    "for org_exp_def in org_experiment_definitions[current_experiment_list]:\n",
    "    new_exp_def = dict()\n",
    "    new_exp_def['directory'] = org_exp_def['directory']\n",
    "    if 'is_default' in org_exp_def:\n",
    "        new_exp_def['is_default'] = org_exp_def['is_default']\n",
    "\n",
    "    if 'name' in org_exp_def:\n",
    "        new_exp_def['id'] = ad.gui.jupyter.misc.replace_str_from_dict(experiment_name_format, {'id': org_exp_def['id'], 'name': org_exp_def['name']})\n",
    "    else:\n",
    "        new_exp_def['id'] = ad.gui.jupyter.misc.replace_str_from_dict(experiment_name_format, {'id': org_exp_def['id']})\n",
    "\n",
    "    experiment_definitions.append(new_exp_def)\n",
    "\n",
    "experiment_statistics = dict()\n",
    "for experiment_definition in experiment_definitions:\n",
    "    experiment_statistics[experiment_definition['id']] = ad.gui.jupyter.misc.load_statistics(experiment_definition['directory'])\n",
    "       "
   ]
  },
  {
   "cell_type": "code",
   "execution_count": null,
   "metadata": {
    "code_folding": [
     0
    ],
    "hide_input": false
   },
   "outputs": [],
   "source": [
    "## Compute PCA+UMAP per experiment repetition\n",
    "import os\n",
    "import sklearn\n",
    "\n",
    "def do_dimension_reduction(algorithm):\n",
    "\n",
    "    data = dict()\n",
    "    \n",
    "    experiment_ids = [exp_def['id'] for exp_def in experiment_definitions]\n",
    "    for experiment_id in experiment_ids: \n",
    "        experiment_idx = experiment_ids.index(experiment_id)\n",
    "        data[experiment_id] = dict()\n",
    "        \n",
    "        for repetition_idx in repetition_ids:\n",
    "            experiment_statistics[experiment_id][repetition_idx] = ad.gui.jupyter.misc.load_statistics(os.path.join(experiment_definitions[experiment_idx]['directory'], 'repetition_{:06d}'.format(repetition_idx)))        \n",
    "        for repetition_idx in repetition_ids:\n",
    "            try:\n",
    "                data_in_goal_space = experiment_statistics[experiment_id][repetition_idx]['representations']['coordinates_in_goal_space']\n",
    "                data_in_goal_space = np.nan_to_num(data_in_goal_space)\n",
    "                data_in_goal_space = sklearn.preprocessing.MinMaxScaler().fit_transform(data_in_goal_space)\n",
    "\n",
    "                # compute \n",
    "                fitted_data = algorithm.fit_transform(data_in_goal_space)\n",
    "                fitted_data = sklearn.preprocessing.MinMaxScaler().fit_transform(fitted_data)            \n",
    "                data[experiment_id][repetition_idx] = fitted_data\n",
    "\n",
    "            except Exception as e:\n",
    "                raise RuntimeError('Error for experiment {!r}, repetition {!r}!'.format(experiment_id, repetition_idx) ) from e\n",
    "        \n",
    "    return data"
   ]
  },
  {
   "cell_type": "code",
   "execution_count": null,
   "metadata": {
    "code_folding": []
   },
   "outputs": [],
   "source": [
    "# plot functions\n",
    "import plotly\n",
    "plotly.offline.init_notebook_mode(connected=True)\n",
    "\n",
    "\n",
    "def plot_single_experiment(data, experiment_id, repetition_idx=0, experiment_statistics=None, data_filters=None, default_color='black', showlegend=True):  \n",
    "        \n",
    "    marker_color = ['rgb(0,0,0)', 'rgb(0,158,115)','rgb(230,159,0)', 'rgb(204,121,167)', 'rgb(0,114,178)', 'rgb(230,159,0)']\n",
    "    marker_symbol = ['circle', 'square', 'diamond']    \n",
    "    \n",
    "    plot_data = []\n",
    "    \n",
    "    if data_filters is None:\n",
    "        trace = plotly.graph_objs.Scatter(\n",
    "            x = data[experiment_id][repetition_idx][0:, 0],\n",
    "            y = data[experiment_id][repetition_idx][0:, 1],\n",
    "            mode = 'markers',\n",
    "            marker = dict(\n",
    "                color = default_color\n",
    "            )\n",
    "        )\n",
    "        plot_data.append(trace)\n",
    "        \n",
    "    else:\n",
    "        \n",
    "        # go through filters\n",
    "        for filter_idx, (data_filter_name, data_filter) in enumerate(data_filters.items()):\n",
    "            \n",
    "            filter_inds = ad.gui.jupyter.misc.filter_single_experiment_data(experiment_statistics[experiment_id], data_filter, repetition_idx)\n",
    "            \n",
    "            trace = plotly.graph_objs.Scatter(\n",
    "                x = data[experiment_id][repetition_idx][filter_inds, 0],\n",
    "                y = data[experiment_id][repetition_idx][filter_inds, 1],\n",
    "                mode = 'markers',\n",
    "                name = data_filter_name,\n",
    "                marker = dict(\n",
    "                    color = marker_color[filter_idx],\n",
    "                    symbol = marker_symbol[filter_idx],\n",
    "                    size = 4,\n",
    "                )\n",
    "            )\n",
    "            plot_data.append(trace)\n",
    "            \n",
    "    # general layout of figure\n",
    "    layout = plotly.graph_objs.Layout(\n",
    "        xaxis=dict(\n",
    "            range=[-0.03,1.03],\n",
    "            showgrid=True,\n",
    "            zeroline=False,\n",
    "            showline=False,\n",
    "            ticks='',\n",
    "            showticklabels=False\n",
    "        ),\n",
    "        yaxis=dict(\n",
    "            range=[-0.03,1.03],\n",
    "            showgrid=True,\n",
    "            zeroline=False,\n",
    "            showline=False,\n",
    "            ticks='',\n",
    "            showticklabels=False\n",
    "        ),\n",
    "        font = dict(\n",
    "            family=font_family, \n",
    "            size=font_size, \n",
    "            ),\n",
    "        width=width_half_smaller, # in cm\n",
    "        height=height_default_4, # in cm\n",
    "        \n",
    "        margin = dict(\n",
    "            l=left_margin, #left margin in pixel\n",
    "            r=right_margin, #right margin in pixel\n",
    "            b=bottom_margin, #bottom margin in pixel\n",
    "            t=top_margin,  #top margin in pixel\n",
    "            ),        \n",
    "        \n",
    "        showlegend=showlegend,\n",
    "        legend=dict(\n",
    "            xanchor='right',\n",
    "            yanchor='bottom',\n",
    "            y=0,\n",
    "            x=1,\n",
    "            ), \n",
    "    )\n",
    "\n",
    "    fig = plotly.graph_objs.Figure(data=plot_data, layout=layout)\n",
    "\n",
    "    plotly.offline.iplot(fig)\n",
    "    \n",
    "    return fig"
   ]
  },
  {
   "cell_type": "markdown",
   "metadata": {},
   "source": [
    "# PCA"
   ]
  },
  {
   "cell_type": "code",
   "execution_count": null,
   "metadata": {
    "code_folding": []
   },
   "outputs": [],
   "source": [
    "# get data\n",
    "import sklearn.decomposition\n",
    "\n",
    "pca_algorithm = sklearn.decomposition.PCA(n_components=2)\n",
    "\n",
    "pca_data = do_dimension_reduction(pca_algorithm)"
   ]
  },
  {
   "cell_type": "code",
   "execution_count": null,
   "metadata": {
    "code_folding": []
   },
   "outputs": [],
   "source": [
    "# plot data\n",
    "print('IMGEP-HGS')\n",
    "fig = plot_single_experiment(pca_data, \n",
    "                            experiment_id='IMGEP-HGS',\n",
    "                            experiment_statistics=experiment_statistics, \n",
    "                            data_filters=data_filters,\n",
    "                            showlegend=False)\n",
    "\n",
    "print('IMGEP-PGL')\n",
    "fig = plot_single_experiment(pca_data, \n",
    "                            experiment_id='IMGEP-PGL',\n",
    "                            experiment_statistics=experiment_statistics, \n",
    "                            data_filters=data_filters,\n",
    "                            showlegend=False)\n",
    "\n",
    "print('IMGEP-OGL')\n",
    "fig = plot_single_experiment(pca_data, \n",
    "                            experiment_id='IMGEP-OGL',\n",
    "                            experiment_statistics=experiment_statistics, \n",
    "                            data_filters=data_filters,\n",
    "                            showlegend=False)"
   ]
  },
  {
   "cell_type": "markdown",
   "metadata": {},
   "source": [
    "# TSNE"
   ]
  },
  {
   "cell_type": "code",
   "execution_count": null,
   "metadata": {
    "code_folding": []
   },
   "outputs": [],
   "source": [
    "# get data\n",
    "import sklearn.manifold\n",
    "\n",
    "tsne_algorithm = sklearn.manifold.TSNE(n_components=2, \n",
    "                                       init='random', \n",
    "                                       random_state=0, \n",
    "                                       perplexity=50)\n",
    "\n",
    "tsne_data = do_dimension_reduction(tsne_algorithm)"
   ]
  },
  {
   "cell_type": "code",
   "execution_count": null,
   "metadata": {
    "code_folding": []
   },
   "outputs": [],
   "source": [
    "# plot data\n",
    "\n",
    "print('IMGEP-HGS')\n",
    "fig = plot_single_experiment(tsne_data, \n",
    "                            experiment_id='IMGEP-HGS',\n",
    "                            experiment_statistics=experiment_statistics, \n",
    "                            data_filters=data_filters,\n",
    "                            showlegend=False)\n",
    "\n",
    "print('IMGEP-PGL')\n",
    "fig = plot_single_experiment(tsne_data, \n",
    "                            experiment_id='IMGEP-PGL',\n",
    "                            experiment_statistics=experiment_statistics, \n",
    "                            data_filters=data_filters,\n",
    "                            showlegend=False)\n",
    "\n",
    "print('IMGEP-OGL')\n",
    "fig = plot_single_experiment(tsne_data, \n",
    "                            experiment_id='IMGEP-OGL',\n",
    "                            experiment_statistics=experiment_statistics, \n",
    "                            data_filters=data_filters,\n",
    "                            showlegend=True)\n"
   ]
  }
 ],
 "metadata": {
  "kernelspec": {
   "display_name": "Python 3",
   "language": "python",
   "name": "python3"
  },
  "language_info": {
   "codemirror_mode": {
    "name": "ipython",
    "version": 3
   },
   "file_extension": ".py",
   "mimetype": "text/x-python",
   "name": "python",
   "nbconvert_exporter": "python",
   "pygments_lexer": "ipython3",
   "version": "3.6.8"
  },
  "toc": {
   "base_numbering": 1,
   "nav_menu": {},
   "number_sections": true,
   "sideBar": true,
   "skip_h1_title": false,
   "title_cell": "Table of Contents",
   "title_sidebar": "Contents",
   "toc_cell": false,
   "toc_position": {},
   "toc_section_display": true,
   "toc_window_display": false
  },
  "varInspector": {
   "cols": {
    "lenName": 16,
    "lenType": 16,
    "lenVar": 40
   },
   "kernels_config": {
    "python": {
     "delete_cmd_postfix": "",
     "delete_cmd_prefix": "del ",
     "library": "var_list.py",
     "varRefreshCmd": "print(var_dic_list())"
    },
    "r": {
     "delete_cmd_postfix": ") ",
     "delete_cmd_prefix": "rm(",
     "library": "var_list.r",
     "varRefreshCmd": "cat(var_dic_list()) "
    }
   },
   "types_to_exclude": [
    "module",
    "function",
    "builtin_function_or_method",
    "instance",
    "_Feature"
   ],
   "window_display": false
  }
 },
 "nbformat": 4,
 "nbformat_minor": 2
}
