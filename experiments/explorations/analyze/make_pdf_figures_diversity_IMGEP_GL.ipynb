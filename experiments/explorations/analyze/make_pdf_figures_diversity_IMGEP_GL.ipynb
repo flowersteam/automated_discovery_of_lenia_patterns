{
 "cells": [
  {
   "cell_type": "markdown",
   "metadata": {},
   "source": [
    "Plots the diversity of the different VAE variants for the IMGEP-PGL and IMGEP-OGL approaches. (Fig. 13, Supplementary Material)."
   ]
  },
  {
   "cell_type": "code",
   "execution_count": null,
   "metadata": {
    "code_folding": []
   },
   "outputs": [],
   "source": [
    "# default print properties\n",
    "multiplier = 2\n",
    "\n",
    "pixel_cm_ration = 36.5\n",
    "\n",
    "width_full = int(13.95 * pixel_cm_ration) * multiplier\n",
    "width_half = int(13.95/2 * pixel_cm_ration) * multiplier\n",
    "\n",
    "height_default_1 = int(3.5 * pixel_cm_ration) * multiplier\n",
    "height_default_2 = int(4.5 * pixel_cm_ration) * multiplier\n",
    "\n",
    "# margins in pixel\n",
    "top_margin = 5 * multiplier \n",
    "left_margin = 45 * multiplier \n",
    "right_margin = 37 * multiplier \n",
    "bottom_margin = 35 * multiplier \n",
    "\n",
    "font_size = 10 * multiplier \n",
    "font_family='Times New Roman'\n",
    "\n",
    "line_width = 2 * multiplier "
   ]
  },
  {
   "cell_type": "code",
   "execution_count": null,
   "metadata": {
    "code_folding": [
     0
    ]
   },
   "outputs": [],
   "source": [
    "# Define and load data\n",
    "import autodisc as ad\n",
    "import ipywidgets\n",
    "import plotly\n",
    "import numpy as np\n",
    "import collections\n",
    "plotly.offline.init_notebook_mode(connected=True)\n",
    "\n",
    "data_filters = collections.OrderedDict()\n",
    "data_filters['none'] = []\n",
    "data_filters['non dead'] = ('classifier_dead.data', '==', False)\n",
    "data_filters['animals (non div)'] = (('classifier_diverging.data', '==', 0), 'and', ('classifier_animal.data', '==', True))\n",
    "data_filters['non animals (non div)'] = ((('classifier_dead.data', '==', False), 'and', ('classifier_animal.data', '==', False)), 'and', ('classifier_diverging.data', '==', 0))\n",
    "data_filters['animals (all)'] = ('classifier_animal.data', '==', True)\n",
    "data_filters['non animals (all)'] = (('classifier_dead.data', '==', False), 'and', ('classifier_animal.data', '==', False))\n",
    "\n",
    "org_experiment_definitions = dict()\n",
    "\n",
    "org_experiment_definitions['imgep_gl'] = [\n",
    "     \n",
    "    # RANDOM\n",
    "    dict(id = '1',\n",
    "         directory = '../experiments/experiment_000001',\n",
    "         name = 'Random Init*',\n",
    "         is_default = True),\n",
    "    \n",
    "    # PGL\n",
    "    dict(id = '201',\n",
    "         directory = '../experiments/experiment_000201',\n",
    "         name = '$\\\\text{PGL VAE}$',\n",
    "         is_default = True),\n",
    "\n",
    "    dict(id = '202',\n",
    "         directory = '../experiments/experiment_000202',\n",
    "         name = '$\\\\text{PGL }\\\\beta\\\\text{-VAE*}$',\n",
    "         is_default = True),\n",
    "\n",
    "    dict(id = '203',\n",
    "         directory = '../experiments/experiment_000203',\n",
    "         name = '$\\\\text{PGL }\\\\beta\\\\text{-VAEaug}$',\n",
    "         is_default = True),\n",
    "    \n",
    "    \n",
    "    # OGL\n",
    "    \n",
    "    dict(id = '301',\n",
    "         directory = '../experiments/experiment_000301',\n",
    "         name = '$\\\\text{OGL-VAE}$',\n",
    "         is_default = True),\n",
    "\n",
    "    dict(id = '302',\n",
    "         directory = '../experiments/experiment_000302',\n",
    "         name = '$\\\\text{OGL-}\\\\beta\\\\text{-VAE*}$',\n",
    "         is_default = True),\n",
    "\n",
    "    dict(id = '303',\n",
    "         directory = '../experiments/experiment_000303',\n",
    "         name = '$\\\\text{OGL-}\\\\beta\\\\text{-VAEaug}$',\n",
    "         is_default = True),    \n",
    "]\n",
    "\n",
    "\n",
    "repetition_ids = list(range(10))\n",
    "\n",
    "# define names and load the data\n",
    "experiment_name_format = '<name>' # <id>, <name>\n",
    "\n",
    "#global experiment_definitions\n",
    "experiment_definitions = []\n",
    "experiment_statistics = []\n",
    "\n",
    "current_experiment_list = 'imgep_gl'\n",
    "\n",
    "experiment_definitions = []\n",
    "for org_exp_def in org_experiment_definitions[current_experiment_list]:\n",
    "    new_exp_def = dict()\n",
    "    new_exp_def['directory'] = org_exp_def['directory']\n",
    "    if 'is_default' in org_exp_def:\n",
    "        new_exp_def['is_default'] = org_exp_def['is_default']\n",
    "\n",
    "    if 'name' in org_exp_def:\n",
    "        new_exp_def['id'] = ad.gui.jupyter.misc.replace_str_from_dict(experiment_name_format, {'id': org_exp_def['id'], 'name': org_exp_def['name']})\n",
    "    else:\n",
    "        new_exp_def['id'] = ad.gui.jupyter.misc.replace_str_from_dict(experiment_name_format, {'id': org_exp_def['id']})\n",
    "\n",
    "    experiment_definitions.append(new_exp_def)\n",
    "\n",
    "experiment_statistics = dict()\n",
    "for experiment_definition in experiment_definitions:\n",
    "    experiment_statistics[experiment_definition['id']] = ad.gui.jupyter.misc.load_statistics(experiment_definition['directory'])\n",
    "       "
   ]
  },
  {
   "cell_type": "code",
   "execution_count": null,
   "metadata": {
    "code_folding": []
   },
   "outputs": [],
   "source": [
    "# Parameters\n",
    "num_of_bins_per_dimension = 5\n",
    "\n",
    "run_parameter_ranges = dict()\n",
    "run_parameter_ranges[('run_parameters', 'T')] = (1, 20) \n",
    "run_parameter_ranges[('run_parameters', 'R')] = (2, 20) \n",
    "run_parameter_ranges[('run_parameters', 'm')] = (0, 1) \n",
    "run_parameter_ranges[('run_parameters', 's')] = (0, 0.3) \n",
    "run_parameter_ranges[('run_parameters', 'b', 0)] = (0, 1)\n",
    "run_parameter_ranges[('run_parameters', 'b', 1)] = (0, 1)\n",
    "run_parameter_ranges[('run_parameters', 'b', 2)] = (0, 1)\n",
    "run_parameter_ranges[('parameter_initstate_space_representation','data','[0]')] = (-5, 5)\n",
    "run_parameter_ranges[('parameter_initstate_space_representation','data','[1]')] = (-5, 5)\n",
    "run_parameter_ranges[('parameter_initstate_space_representation','data','[2]')] = (-5, 5)\n",
    "run_parameter_ranges[('parameter_initstate_space_representation','data','[3]')] = (-5, 5)\n",
    "run_parameter_ranges[('parameter_initstate_space_representation','data','[4]')] = (-5, 5)\n",
    "run_parameter_ranges[('parameter_initstate_space_representation','data','[5]')] = (-5, 5)\n",
    "run_parameter_ranges[('parameter_initstate_space_representation','data','[6]')] = (-5, 5)\n",
    "run_parameter_ranges[('parameter_initstate_space_representation','data','[7]')] = (-5, 5)\n",
    "\n",
    "statistic_ranges = dict()\n",
    "statistic_ranges[('lenia_statistics','statistics.activation_mass[-1]')] = (0, 1)\n",
    "statistic_ranges[('lenia_statistics','statistics.activation_volume[-1]')] = (0, 1)\n",
    "statistic_ranges[('lenia_statistics','statistics.activation_density[-1]')] = (0, 1)\n",
    "statistic_ranges[('lenia_statistics','statistics.activation_mass_asymmetry[-1]')] = (-1, 1)\n",
    "statistic_ranges[('lenia_statistics','statistics.activation_mass_distribution[-1]')] = (0, 1)\n",
    "statistic_ranges[('statistic_space_representation','data','[0]')] = (-5, 5)\n",
    "statistic_ranges[('statistic_space_representation','data','[1]')] = (-5, 5)\n",
    "statistic_ranges[('statistic_space_representation','data','[2]')] = (-5, 5)\n",
    "statistic_ranges[('statistic_space_representation','data','[3]')] = (-5, 5)\n",
    "statistic_ranges[('statistic_space_representation','data','[4]')] = (-5, 5)\n",
    "statistic_ranges[('statistic_space_representation','data','[5]')] = (-5, 5)\n",
    "statistic_ranges[('statistic_space_representation','data','[6]')] = (-5, 5)\n",
    "statistic_ranges[('statistic_space_representation','data','[7]')] = (-5, 5)\n",
    "\n",
    "\n",
    "default_config = dict(\n",
    "    plot_type = 'plotly_box',\n",
    "    layout = dict(\n",
    "        yaxis= dict(\n",
    "            title='number of bins',\n",
    "            showline = False,\n",
    "            linewidth = 1,\n",
    "            zeroline=False,\n",
    "            ),\n",
    "        xaxis= dict(\n",
    "            showline = False,\n",
    "            linewidth = 1,\n",
    "            zeroline=False,\n",
    "            ),\n",
    "        font = dict(\n",
    "            family=font_family, \n",
    "            size=font_size, \n",
    "            ),\n",
    "        width = width_full, # in cm\n",
    "        height = height_default_2, # in cm\n",
    "        \n",
    "        margin = dict(\n",
    "            l=left_margin, #left margin in pixel\n",
    "            r=right_margin, #right margin in pixel\n",
    "            b=bottom_margin, #bottom margin in pixel\n",
    "            t=top_margin,  #top margin in pixel\n",
    "            ),\n",
    "        \n",
    "        \n",
    "        updatemenus=[],\n",
    "    ),\n",
    "    init_mode='all',\n",
    "    \n",
    "    default_trace=dict(\n",
    "        boxmean=True,\n",
    "    ),\n",
    "    \n",
    "    group_labels = ['Random Init*',\n",
    "                    '$\\\\begin{gather*} \\\\text{PGL} \\\\\\\\ \\\\text{VAE} \\\\end{gather*}$',\n",
    "                    '$\\\\begin{gather*} \\\\text{PGL} \\\\\\\\ \\\\beta\\\\text{-VAE*} \\\\end{gather*}$',\n",
    "                    '$\\\\begin{gather*} \\\\text{PGL} \\\\\\\\ \\\\beta\\\\text{-VAE aug} \\\\end{gather*}$',\n",
    "                    '$\\\\begin{gather*} \\\\text{OGL} \\\\\\\\ \\\\text{VAE} \\\\end{gather*}$',\n",
    "                    '$\\\\begin{gather*} \\\\text{OGL} \\\\\\\\ \\\\beta\\\\text{-VAE*} \\\\end{gather*}$',\n",
    "                    '$\\\\begin{gather*} \\\\text{OGL} \\\\\\\\ \\\\beta\\\\text{-VAE aug} \\\\end{gather*}$',\n",
    "                   ],\n",
    "    \n",
    "    traces = [\n",
    "        dict(marker=dict(color='rgb(0,0,0)')),\n",
    "    ]\n",
    ")"
   ]
  },
  {
   "cell_type": "code",
   "execution_count": null,
   "metadata": {
    "code_folding": [
     0
    ]
   },
   "outputs": [],
   "source": [
    "# General Functions to load data\n",
    "import autodisc as ad\n",
    "import warnings\n",
    "\n",
    "def measure_n_explored_bins(n_points_per_bin, n_bin_per_dim, n_dim):\n",
    "    return len(n_points_per_bin)\n",
    "\n",
    "def calc_diversity(experiment_definitions, source_data, space_defintion, num_of_bins_per_dimension=5, ignore_out_of_range_values=False, data_filter=None):\n",
    "\n",
    "    data_filter_inds = None\n",
    "    if data_filter is not None and data_filter:\n",
    "        # filter data according data_filter the given filter\n",
    "        data_filter_inds = ad.gui.jupyter.misc.filter_experiments_data(source_data, data_filter)\n",
    "        \n",
    "    data_bin_descr_per_exp = dict()\n",
    "\n",
    "    for exp_def in experiment_definitions:\n",
    "        exp_id = exp_def['id']\n",
    "\n",
    "        rep_data_matricies = []\n",
    "\n",
    "        cur_bin_config = []\n",
    "        cur_matrix_data = []\n",
    "\n",
    "        for dim_name, dim_ranges in space_defintion.items():\n",
    "\n",
    "            # define the bin configuration for the current parameter\n",
    "            cur_bin_config.append((dim_ranges[0], dim_ranges[1], num_of_bins_per_dimension))\n",
    "            \n",
    "            cur_data_filter_inds = data_filter_inds[exp_id] if data_filter_inds is not None else None  \n",
    "            \n",
    "            # get all repetition data for the current paramter\n",
    "            try:\n",
    "                cur_data = ad.gui.jupyter.misc.get_experiment_data(data=source_data, experiment_id=exp_id, data_source=dim_name, repetition_ids='all', data_filter_inds=cur_data_filter_inds)\n",
    "                \n",
    "            except Exception as err:\n",
    "                if not isinstance(err, KeyError):\n",
    "                    raise Exception('Error during loading of data for Experiment {!r} (Datasource = {!r} )!'.format(exp_id, dim_name)) from err\n",
    "                else:\n",
    "                    # could not load data\n",
    "                    warnings.warn('Could not load data for Experiment {!r} (Datasource = {!r} )!'.format(exp_id, dim_name))\n",
    "                    \n",
    "                    cur_data = []\n",
    "            \n",
    "            for rep_idx, cur_rep_data in enumerate(cur_data):\n",
    "                cur_rep_data = np.array([cur_rep_data]).transpose()\n",
    "\n",
    "                if rep_idx >= len(rep_data_matricies):\n",
    "                    rep_data_matricies.append(cur_rep_data)\n",
    "                else:\n",
    "                    rep_data_matricies[rep_idx] = np.hstack((rep_data_matricies[rep_idx], cur_rep_data))\n",
    "\n",
    "        #print(rep_data_matricies[0].shape)\n",
    "                    \n",
    "        cur_run_parameter_bin_descr_per_exp = []\n",
    "        for rep_idx, rep_matrix_data in enumerate(rep_data_matricies):\n",
    "            rep_data = ad.helper.statistics.calc_space_distribution_bins(rep_matrix_data, cur_bin_config, ignore_out_of_range_values=ignore_out_of_range_values)\n",
    "            #rep_data['dimensions'] = ['T', 'R', 'm', 's', 'b[0]', 'b[1]', 'b[2]']\n",
    "            cur_run_parameter_bin_descr_per_exp.append(rep_data)\n",
    "\n",
    "        data_bin_descr_per_exp[exp_id] = cur_run_parameter_bin_descr_per_exp\n",
    "\n",
    "    ########################\n",
    "    # calculate diversity measures based on the calculated space distribution bins\n",
    "        \n",
    "    data_diversity = dict()\n",
    "    for exp_id in data_bin_descr_per_exp.keys():\n",
    "        data_diversity[exp_id] = dict()\n",
    "\n",
    "    # n_explored_bins\n",
    "    for exp_id, exp_data in data_bin_descr_per_exp.items():\n",
    "        cur_data = np.zeros(len(exp_data))\n",
    "        for rep_idx, rep_data in enumerate(exp_data):\n",
    "            cur_data[rep_idx] = measure_n_explored_bins(rep_data['n_points'], num_of_bins_per_dimension, len(space_defintion))\n",
    "        data_diversity[exp_id]['n_explored_bins'] = cur_data\n",
    "        \n",
    "    return data_diversity, data_bin_descr_per_exp"
   ]
  },
  {
   "cell_type": "markdown",
   "metadata": {},
   "source": [
    "# Diversity Curves - all entities"
   ]
  },
  {
   "cell_type": "markdown",
   "metadata": {},
   "source": [
    "## Paramter Space"
   ]
  },
  {
   "cell_type": "code",
   "execution_count": null,
   "metadata": {
    "code_folding": []
   },
   "outputs": [],
   "source": [
    "# Load data\n",
    "data_diversity_run_parameters, _ = calc_diversity(\n",
    "    experiment_definitions, \n",
    "    experiment_statistics, \n",
    "    run_parameter_ranges, \n",
    "    num_of_bins_per_dimension=num_of_bins_per_dimension,\n",
    "    data_filter=data_filters['none'])"
   ]
  },
  {
   "cell_type": "code",
   "execution_count": null,
   "metadata": {
    "code_folding": []
   },
   "outputs": [],
   "source": [
    "# Plot Data\n",
    "import copy\n",
    "\n",
    "config = copy.deepcopy(default_config)\n",
    "\n",
    "fig = ad.gui.jupyter.plot_barbox_per_datasource(experiment_definitions=[exp_def['id'] for exp_def in experiment_definitions],\n",
    "                                          repetition_ids=repetition_ids, \n",
    "                                          data=data_diversity_run_parameters, \n",
    "                                          data_source=['n_explored_bins'],\n",
    "                                          config=config)\n"
   ]
  },
  {
   "cell_type": "markdown",
   "metadata": {},
   "source": [
    "## Statistic Space - All"
   ]
  },
  {
   "cell_type": "code",
   "execution_count": null,
   "metadata": {
    "code_folding": [
     0
    ]
   },
   "outputs": [],
   "source": [
    "# Load data\n",
    "data_diversity_statistic_space_all, _ = calc_diversity(\n",
    "    experiment_definitions, \n",
    "    experiment_statistics, \n",
    "    statistic_ranges, \n",
    "    num_of_bins_per_dimension=num_of_bins_per_dimension,\n",
    "    data_filter=data_filters['none'])"
   ]
  },
  {
   "cell_type": "code",
   "execution_count": null,
   "metadata": {
    "code_folding": []
   },
   "outputs": [],
   "source": [
    "# Plot Data\n",
    "import copy\n",
    "\n",
    "config = copy.deepcopy(default_config)\n",
    "\n",
    "fig = ad.gui.jupyter.plot_barbox_per_datasource(experiment_definitions=[exp_def['id'] for exp_def in experiment_definitions],\n",
    "                                          repetition_ids=repetition_ids, \n",
    "                                          data=data_diversity_statistic_space_all, \n",
    "                                          data_source=['n_explored_bins'],\n",
    "                                          config=config)\n"
   ]
  },
  {
   "cell_type": "markdown",
   "metadata": {},
   "source": [
    "## Statistic Space - Animals"
   ]
  },
  {
   "cell_type": "code",
   "execution_count": null,
   "metadata": {
    "code_folding": [
     0
    ]
   },
   "outputs": [],
   "source": [
    "# Load data\n",
    "data_diversity_statistic_space_animals, _ = calc_diversity(\n",
    "    experiment_definitions, \n",
    "    experiment_statistics, \n",
    "    statistic_ranges, \n",
    "    num_of_bins_per_dimension=num_of_bins_per_dimension,\n",
    "    data_filter=data_filters['animals (all)'])"
   ]
  },
  {
   "cell_type": "code",
   "execution_count": null,
   "metadata": {
    "code_folding": []
   },
   "outputs": [],
   "source": [
    "# Plot Data\n",
    "import copy\n",
    "\n",
    "config = copy.deepcopy(default_config)\n",
    "\n",
    "fig = ad.gui.jupyter.plot_barbox_per_datasource(experiment_definitions=[exp_def['id'] for exp_def in experiment_definitions],\n",
    "                                          repetition_ids=repetition_ids, \n",
    "                                          data=data_diversity_statistic_space_animals, \n",
    "                                          data_source=['n_explored_bins'],\n",
    "                                          config=config)\n"
   ]
  },
  {
   "cell_type": "markdown",
   "metadata": {},
   "source": [
    "## Statistic Space - Non Animals"
   ]
  },
  {
   "cell_type": "code",
   "execution_count": null,
   "metadata": {
    "code_folding": [
     0
    ]
   },
   "outputs": [],
   "source": [
    "# Load data\n",
    "data_diversity_statistic_space_nonanimals, _ = calc_diversity(\n",
    "    experiment_definitions, \n",
    "    experiment_statistics, \n",
    "    statistic_ranges, \n",
    "    num_of_bins_per_dimension=num_of_bins_per_dimension,\n",
    "    data_filter=data_filters['non animals (all)'])"
   ]
  },
  {
   "cell_type": "code",
   "execution_count": null,
   "metadata": {
    "code_folding": []
   },
   "outputs": [],
   "source": [
    "# Plot Data\n",
    "import copy\n",
    "\n",
    "config = copy.deepcopy(default_config)\n",
    "\n",
    "fig = ad.gui.jupyter.plot_barbox_per_datasource(experiment_definitions=[exp_def['id'] for exp_def in experiment_definitions],\n",
    "                                          repetition_ids=repetition_ids, \n",
    "                                          data=data_diversity_statistic_space_nonanimals, \n",
    "                                          data_source=['n_explored_bins'],\n",
    "                                          config=config)"
   ]
  }
 ],
 "metadata": {
  "anaconda-cloud": {},
  "kernelspec": {
   "display_name": "Python 3",
   "language": "python",
   "name": "python3"
  },
  "language_info": {
   "codemirror_mode": {
    "name": "ipython",
    "version": 3
   },
   "file_extension": ".py",
   "mimetype": "text/x-python",
   "name": "python",
   "nbconvert_exporter": "python",
   "pygments_lexer": "ipython3",
   "version": "3.6.8"
  },
  "toc": {
   "base_numbering": 1,
   "nav_menu": {},
   "number_sections": true,
   "sideBar": true,
   "skip_h1_title": false,
   "title_cell": "Table of Contents",
   "title_sidebar": "Contents",
   "toc_cell": false,
   "toc_position": {},
   "toc_section_display": true,
   "toc_window_display": false
  },
  "varInspector": {
   "cols": {
    "lenName": 16,
    "lenType": 16,
    "lenVar": 40
   },
   "kernels_config": {
    "python": {
     "delete_cmd_postfix": "",
     "delete_cmd_prefix": "del ",
     "library": "var_list.py",
     "varRefreshCmd": "print(var_dic_list())"
    },
    "r": {
     "delete_cmd_postfix": ") ",
     "delete_cmd_prefix": "rm(",
     "library": "var_list.r",
     "varRefreshCmd": "cat(var_dic_list()) "
    }
   },
   "types_to_exclude": [
    "module",
    "function",
    "builtin_function_or_method",
    "instance",
    "_Feature"
   ],
   "window_display": false
  }
 },
 "nbformat": 4,
 "nbformat_minor": 2
}
