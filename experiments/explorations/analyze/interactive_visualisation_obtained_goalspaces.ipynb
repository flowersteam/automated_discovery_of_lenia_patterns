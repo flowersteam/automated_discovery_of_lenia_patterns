{
 "cells": [
  {
   "cell_type": "markdown",
   "metadata": {},
   "source": [
    "Interactive 2D Visualisation of the obtained goal spaces in the IMGEP experiments (video *Visualisation of Learned Goal Spaces* on the website https://automated-discovery.github.io/index.html)"
   ]
  },
  {
   "cell_type": "code",
   "execution_count": 7,
   "metadata": {},
   "outputs": [],
   "source": [
    "# default print properties\n",
    "multiplier = 2\n",
    "\n",
    "pixel_cm_ration = 36.5\n",
    "\n",
    "width_full = int(13.95 * pixel_cm_ration) * multiplier\n",
    "width_full_smaller = int((13.95-1) * pixel_cm_ration) * multiplier\n",
    "width_half = int(13.95/2 * pixel_cm_ration) * multiplier\n",
    "width_half_smaller = int((13.95-1)/2 * pixel_cm_ration) * multiplier\n",
    "\n",
    "height_default_1 = int(3.5 * pixel_cm_ration) * multiplier\n",
    "height_default_4 = int(7 * pixel_cm_ration) * multiplier\n",
    "\n",
    "# margins in pixel\n",
    "top_margin = 0 * multiplier \n",
    "left_margin = 0 * multiplier \n",
    "right_margin = 0 * multiplier \n",
    "bottom_margin = 0 * multiplier \n",
    "\n",
    "font_size = 10 * multiplier \n",
    "font_family='Times New Roman'\n",
    "\n",
    "line_width = 2 * multiplier "
   ]
  },
  {
   "cell_type": "code",
   "execution_count": 2,
   "metadata": {
    "code_folding": [],
    "hide_input": false
   },
   "outputs": [
    {
     "data": {
      "text/html": [
       "        <script type=\"text/javascript\">\n",
       "        window.PlotlyConfig = {MathJaxConfig: 'local'};\n",
       "        if (window.MathJax) {MathJax.Hub.Config({SVG: {font: \"STIX-Web\"}});}\n",
       "        if (typeof require !== 'undefined') {\n",
       "        require.undef(\"plotly\");\n",
       "        requirejs.config({\n",
       "            paths: {\n",
       "                'plotly': ['https://cdn.plot.ly/plotly-latest.min']\n",
       "            }\n",
       "        });\n",
       "        require(['plotly'], function(Plotly) {\n",
       "            window._Plotly = Plotly;\n",
       "        });\n",
       "        }\n",
       "        </script>\n",
       "        "
      ]
     },
     "metadata": {},
     "output_type": "display_data"
    }
   ],
   "source": [
    "# Define and load data\n",
    "import autodisc as ad\n",
    "import ipywidgets\n",
    "import plotly\n",
    "import numpy as np\n",
    "import collections\n",
    "plotly.offline.init_notebook_mode(connected=True)\n",
    "\n",
    "data_filters = collections.OrderedDict()\n",
    "data_filters['dead'] = ('classifier_dead.data', '==', True)\n",
    "data_filters['non-animal'] = (('classifier_dead.data', '==', False), 'and', ('classifier_animal.data', '==', False))\n",
    "data_filters['animal'] = ('classifier_animal.data', '==', True)\n",
    "\n",
    "org_experiment_definitions = dict()\n",
    "\n",
    "org_experiment_definitions['main_paper'] = [\n",
    "    dict(id = '109',\n",
    "         directory = '../experiments/experiment_000109',\n",
    "         name = 'IMGEP-HGS',\n",
    "         is_default = True),\n",
    "    \n",
    "    dict(id = '202',\n",
    "         directory = '../experiments/experiment_000202',\n",
    "         name = 'IMGEP-PGL',\n",
    "         is_default = True),\n",
    "\n",
    "    dict(id = '302',\n",
    "         directory = '../experiments/experiment_000302',\n",
    "         name = 'IMGEP-OGL',\n",
    "         is_default = True),\n",
    "]\n",
    "\n",
    "repetition_ids = list(range(1))\n",
    "\n",
    "# define names and load the data\n",
    "experiment_name_format = '<name>' # <id>, <name>\n",
    "\n",
    "# global experiment_definitions\n",
    "experiment_definitions = []\n",
    "experiment_statistics = []\n",
    "\n",
    "current_experiment_list = 'main_paper'\n",
    "\n",
    "experiment_definitions = []\n",
    "for org_exp_def in org_experiment_definitions[current_experiment_list]:\n",
    "    new_exp_def = dict()\n",
    "    new_exp_def['directory'] = org_exp_def['directory']\n",
    "    if 'is_default' in org_exp_def:\n",
    "        new_exp_def['is_default'] = org_exp_def['is_default']\n",
    "\n",
    "    if 'name' in org_exp_def:\n",
    "        new_exp_def['id'] = ad.gui.jupyter.misc.replace_str_from_dict(experiment_name_format, {'id': org_exp_def['id'], 'name': org_exp_def['name']})\n",
    "    else:\n",
    "        new_exp_def['id'] = ad.gui.jupyter.misc.replace_str_from_dict(experiment_name_format, {'id': org_exp_def['id']})\n",
    "\n",
    "    experiment_definitions.append(new_exp_def)\n",
    "\n",
    "experiment_statistics = dict()\n",
    "for experiment_definition in experiment_definitions:\n",
    "    experiment_statistics[experiment_definition['id']] = ad.gui.jupyter.misc.load_statistics(experiment_definition['directory'])\n",
    "       "
   ]
  },
  {
   "cell_type": "code",
   "execution_count": 3,
   "metadata": {
    "hide_input": false,
    "scrolled": false
   },
   "outputs": [
    {
     "name": "stderr",
     "output_type": "stream",
     "text": [
      "/home/mayalen/anaconda3/envs/autodisc/lib/python3.6/site-packages/umap/spectral.py:229: UserWarning:\n",
      "\n",
      "Embedding a total of 2 separate connected components using meta-embedding (experimental)\n",
      "\n"
     ]
    }
   ],
   "source": [
    "# Compute PCA + TSNE + UMAP per experiment repetition\n",
    "import os\n",
    "import sklearn\n",
    "\n",
    "def do_dimension_reduction(algorithm):\n",
    "\n",
    "    data = dict()\n",
    "    \n",
    "    experiment_ids = [exp_def['id'] for exp_def in experiment_definitions]\n",
    "    for experiment_id in experiment_ids: \n",
    "        experiment_idx = experiment_ids.index(experiment_id)\n",
    "        data[experiment_idx] = dict()\n",
    "        \n",
    "        for repetition_idx in repetition_ids:\n",
    "            experiment_statistics[experiment_id][repetition_idx] = ad.gui.jupyter.misc.load_statistics(os.path.join(experiment_definitions[experiment_idx]['directory'], 'repetition_{:06d}'.format(repetition_idx)))        \n",
    "        for repetition_idx in repetition_ids:\n",
    "            try:\n",
    "                data_in_goal_space = experiment_statistics[experiment_id][repetition_idx]['representations']['coordinates_in_goal_space']\n",
    "                data_in_goal_space = np.nan_to_num(data_in_goal_space)\n",
    "                data_in_goal_space = sklearn.preprocessing.MinMaxScaler().fit_transform(data_in_goal_space)\n",
    "\n",
    "                # compute \n",
    "                fitted_data = algorithm.fit_transform(data_in_goal_space)\n",
    "                fitted_data = sklearn.preprocessing.MinMaxScaler().fit_transform(fitted_data)            \n",
    "                data[experiment_idx][repetition_idx] = fitted_data\n",
    "\n",
    "            except Exception as e:\n",
    "                raise RuntimeError('Error for experiment {!r}, repetition {!r}!'.format(experiment_id, repetition_idx) ) from e\n",
    "        \n",
    "    return data\n",
    "\n",
    "\n",
    "## PCA\n",
    "import sklearn.decomposition\n",
    "pca_algorithm = sklearn.decomposition.PCA(n_components=2)\n",
    "pca_data = do_dimension_reduction(pca_algorithm)\n",
    "\n",
    "## TSNE\n",
    "import sklearn.manifold\n",
    "tsne_algorithm = sklearn.manifold.TSNE(n_components=2, \n",
    "                                       init='random', \n",
    "                                       random_state=0, \n",
    "                                       perplexity=50)\n",
    "tsne_data = do_dimension_reduction(tsne_algorithm)\n",
    "\n",
    "## UMAP\n",
    "from umap import UMAP\n",
    "umap_algorithm = UMAP(n_neighbors=10, \n",
    "                       min_dist=0.1, \n",
    "                       metric='euclidean')\n",
    "umap_data = do_dimension_reduction(umap_algorithm)"
   ]
  },
  {
   "cell_type": "code",
   "execution_count": 8,
   "metadata": {},
   "outputs": [],
   "source": [
    " # general layout of figure\n",
    "plot_layout = dict(\n",
    "        xaxis=dict(\n",
    "            range=[-0.03,1.03],\n",
    "            showgrid=True,\n",
    "            zeroline=False,\n",
    "            showline=False,\n",
    "            ticks='',\n",
    "            showticklabels=False\n",
    "        ),\n",
    "        yaxis=dict(\n",
    "            range=[-0.03,1.03],\n",
    "            showgrid=True,\n",
    "            zeroline=False,\n",
    "            showline=False,\n",
    "            ticks='',\n",
    "            showticklabels=False\n",
    "        ),\n",
    "        font = dict(\n",
    "            family=font_family, \n",
    "            size=font_size, \n",
    "            ),\n",
    "        width=width_full_smaller, # in cm\n",
    "        height=height_default_4, # in cm\n",
    "        \n",
    "        margin = dict(\n",
    "            l=left_margin, #left margin in pixel\n",
    "            r=right_margin, #right margin in pixel\n",
    "            b=bottom_margin, #bottom margin in pixel\n",
    "            t=top_margin,  #top margin in pixel\n",
    "            ),        \n",
    "        \n",
    "        showlegend=True,\n",
    "        legend=dict(\n",
    "            xanchor='right',\n",
    "            yanchor='bottom',\n",
    "            y=0,\n",
    "            x=1,\n",
    "            ), \n",
    "    )"
   ]
  },
  {
   "cell_type": "markdown",
   "metadata": {},
   "source": [
    "# Interface\n",
    "\n",
    "The user can\n",
    "* Select the experiment and repetition to visualize (press the **Load** button) \n",
    "* Select the visualisation dimensionality reduction technique (**PCA, T-SNE, UMAP**)\n",
    "* **Zoom** in/out and **Pan** in the goal space through plotly toolbar (top-right corner of the figure)\n",
    "* Select points from the plots (**Box Select** in the tool bar) and visualize the corresponding patterns found by the algorithm"
   ]
  },
  {
   "cell_type": "code",
   "execution_count": 10,
   "metadata": {
    "hide_input": false
   },
   "outputs": [
    {
     "data": {
      "application/vnd.jupyter.widget-view+json": {
       "model_id": "447e554bfeb14a989d1a011bf9783654",
       "version_major": 2,
       "version_minor": 0
      },
      "text/plain": [
       "PlotRepresentationSpaceWidget(children=(ExperimentRepetitionLoaderWidget(children=(Dropdown(description='Exper…"
      ]
     },
     "metadata": {},
     "output_type": "display_data"
    }
   ],
   "source": [
    "# Launch GUI\n",
    "from autodisc.gui.jupyter import PlotRepresentationSpaceWidget\n",
    "gui_config = PlotRepresentationSpaceWidget.get_default_gui_config()\n",
    "gui_config.latent_space_viewer_widget.image_list_widget.box_layout.height = '500px'\n",
    "gui_config.latent_space_viewer_widget.visualisation_type_selector.options = ['PCA', 'T-SNE', 'UMAP']\n",
    "gui_config.latent_space_viewer_widget.visualisation_type_selector.value = 'T-SNE'\n",
    "gui_config.latent_space_viewer_widget.canvas.layout = plot_layout\n",
    "PlotRepresentationSpaceWidget(experiment_definitions, repetition_ids, pca_data, tsne_data, umap_data, experiment_statistics, data_filters, config=gui_config)\n"
   ]
  },
  {
   "cell_type": "code",
   "execution_count": null,
   "metadata": {},
   "outputs": [],
   "source": []
  }
 ],
 "metadata": {
  "kernelspec": {
   "display_name": "Python 3",
   "language": "python",
   "name": "python3"
  },
  "language_info": {
   "codemirror_mode": {
    "name": "ipython",
    "version": 3
   },
   "file_extension": ".py",
   "mimetype": "text/x-python",
   "name": "python",
   "nbconvert_exporter": "python",
   "pygments_lexer": "ipython3",
   "version": "3.6.8"
  },
  "toc": {
   "base_numbering": 1,
   "nav_menu": {},
   "number_sections": true,
   "sideBar": true,
   "skip_h1_title": false,
   "title_cell": "Table of Contents",
   "title_sidebar": "Contents",
   "toc_cell": false,
   "toc_position": {},
   "toc_section_display": true,
   "toc_window_display": false
  }
 },
 "nbformat": 4,
 "nbformat_minor": 2
}
